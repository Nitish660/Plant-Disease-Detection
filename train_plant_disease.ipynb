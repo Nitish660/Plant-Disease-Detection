{
 "cells": [
  {
   "cell_type": "code",
   "execution_count": 1,
   "id": "badfb094-d256-4d09-a252-17d4dd59cbeb",
   "metadata": {},
   "outputs": [],
   "source": [
    "import tensorflow as tf\n",
    "import matplotlib.pyplot as plt\n",
    "import pandas as pd\n",
    "import seaborn as sns"
   ]
  },
  {
   "cell_type": "code",
   "execution_count": 2,
   "id": "a5e5e6e9-e1c5-4df3-ab9f-f77a4bfe6029",
   "metadata": {},
   "outputs": [
    {
     "name": "stdout",
     "output_type": "stream",
     "text": [
      "Found 70295 files belonging to 38 classes.\n"
     ]
    }
   ],
   "source": [
    "training_set = tf.keras.utils.image_dataset_from_directory(\n",
    "    'train',\n",
    "    labels=\"inferred\",\n",
    "    label_mode=\"categorical\",\n",
    "    class_names=None,\n",
    "    color_mode=\"rgb\",\n",
    "    batch_size=32,\n",
    "    image_size=(128, 128),\n",
    "    shuffle=True,\n",
    "    seed=None,\n",
    "    validation_split=None,\n",
    "    subset=None,\n",
    "    interpolation=\"bilinear\",\n",
    "    follow_links=False,\n",
    "    crop_to_aspect_ratio=False\n",
    ")"
   ]
  },
  {
   "cell_type": "code",
   "execution_count": 3,
   "id": "041fe33e-c3f5-4dd0-b178-d9e812904dbf",
   "metadata": {},
   "outputs": [
    {
     "name": "stdout",
     "output_type": "stream",
     "text": [
      "Found 17572 files belonging to 38 classes.\n"
     ]
    }
   ],
   "source": [
    "validation_set = tf.keras.utils.image_dataset_from_directory(\n",
    "    'valid',\n",
    "    labels=\"inferred\",\n",
    "    label_mode=\"categorical\",\n",
    "    class_names=None,\n",
    "    color_mode=\"rgb\",\n",
    "    batch_size=32,\n",
    "    image_size=(128, 128),\n",
    "    shuffle=True,\n",
    "    seed=None,\n",
    "    validation_split=None,\n",
    "    subset=None,\n",
    "    interpolation=\"bilinear\",\n",
    "    follow_links=False,\n",
    "    crop_to_aspect_ratio=False\n",
    ")"
   ]
  },
  {
   "cell_type": "code",
   "execution_count": 4,
   "id": "ee34c228-8db8-4dda-8f63-3791dac2cef6",
   "metadata": {},
   "outputs": [
    {
     "name": "stdout",
     "output_type": "stream",
     "text": [
      "tf.Tensor(\n",
      "[[[[169.   161.   172.  ]\n",
      "   [167.75 159.75 170.75]\n",
      "   [166.   158.   169.  ]\n",
      "   ...\n",
      "   [101.   114.25  88.25]\n",
      "   [111.75 127.    98.  ]\n",
      "   [108.75 124.    95.  ]]\n",
      "\n",
      "  [[169.   161.   172.  ]\n",
      "   [169.5  161.5  172.5 ]\n",
      "   [170.   162.   173.  ]\n",
      "   ...\n",
      "   [103.   119.5   90.25]\n",
      "   [101.5  120.25  89.75]\n",
      "   [ 94.   113.    80.75]]\n",
      "\n",
      "  [[169.5  161.5  172.5 ]\n",
      "   [170.5  162.5  173.5 ]\n",
      "   [171.75 163.75 174.75]\n",
      "   ...\n",
      "   [ 98.75 120.75  87.5 ]\n",
      "   [106.   129.75  94.25]\n",
      "   [ 93.5  117.5   81.25]]\n",
      "\n",
      "  ...\n",
      "\n",
      "  [[123.   112.25 115.5 ]\n",
      "   [118.25 108.25 107.75]\n",
      "   [119.25 109.25 108.25]\n",
      "   ...\n",
      "   [ 55.25  62.75  31.75]\n",
      "   [ 45.75  52.75  21.75]\n",
      "   [ 40.75  45.75  15.75]]\n",
      "\n",
      "  [[117.5  105.5  107.5 ]\n",
      "   [119.   107.   107.  ]\n",
      "   [120.75 108.75 109.25]\n",
      "   ...\n",
      "   [ 43.    50.    19.  ]\n",
      "   [ 36.5   41.5   11.5 ]\n",
      "   [ 41.    44.    15.  ]]\n",
      "\n",
      "  [[114.75 102.75 104.75]\n",
      "   [115.75 103.75 103.75]\n",
      "   [116.   104.   105.  ]\n",
      "   ...\n",
      "   [ 36.25  41.25  11.25]\n",
      "   [ 28.5   31.5    2.75]\n",
      "   [ 34.    37.     8.  ]]]\n",
      "\n",
      "\n",
      " [[[145.75 134.75 132.75]\n",
      "   [153.25 142.25 140.25]\n",
      "   [159.   148.   146.  ]\n",
      "   ...\n",
      "   [176.75 168.75 165.75]\n",
      "   [184.   176.   173.  ]\n",
      "   [174.25 166.25 163.25]]\n",
      "\n",
      "  [[147.5  136.5  134.5 ]\n",
      "   [151.5  140.5  138.5 ]\n",
      "   [159.25 148.25 146.25]\n",
      "   ...\n",
      "   [173.   165.   162.  ]\n",
      "   [175.25 167.25 164.25]\n",
      "   [168.   160.   157.  ]]\n",
      "\n",
      "  [[152.75 141.75 139.75]\n",
      "   [147.   136.   134.  ]\n",
      "   [145.25 134.25 132.25]\n",
      "   ...\n",
      "   [175.5  167.5  164.5 ]\n",
      "   [175.5  167.5  164.5 ]\n",
      "   [174.25 166.25 163.25]]\n",
      "\n",
      "  ...\n",
      "\n",
      "  [[140.5  126.5  123.5 ]\n",
      "   [131.5  117.5  114.5 ]\n",
      "   [143.   129.   126.  ]\n",
      "   ...\n",
      "   [171.   163.   160.  ]\n",
      "   [160.5  152.5  149.5 ]\n",
      "   [153.5  145.5  142.5 ]]\n",
      "\n",
      "  [[143.   129.   126.  ]\n",
      "   [138.75 124.75 121.75]\n",
      "   [123.25 109.25 106.25]\n",
      "   ...\n",
      "   [159.5  151.5  148.5 ]\n",
      "   [154.25 146.25 143.25]\n",
      "   [150.75 142.75 139.75]]\n",
      "\n",
      "  [[145.25 131.25 128.25]\n",
      "   [140.   126.   123.  ]\n",
      "   [136.75 122.75 119.75]\n",
      "   ...\n",
      "   [151.25 143.25 140.25]\n",
      "   [159.   151.   148.  ]\n",
      "   [159.5  151.5  148.5 ]]]\n",
      "\n",
      "\n",
      " [[[  0.     0.     0.  ]\n",
      "   [  0.     0.     0.  ]\n",
      "   [  0.     0.     0.  ]\n",
      "   ...\n",
      "   [  0.     0.     0.  ]\n",
      "   [  0.     0.     0.  ]\n",
      "   [  0.     0.     0.  ]]\n",
      "\n",
      "  [[  0.     0.     0.  ]\n",
      "   [  0.     0.     0.  ]\n",
      "   [  0.     0.     0.  ]\n",
      "   ...\n",
      "   [  0.     0.     0.  ]\n",
      "   [  0.     0.     0.  ]\n",
      "   [  0.     0.     0.  ]]\n",
      "\n",
      "  [[  0.     0.     0.  ]\n",
      "   [  0.     0.     0.  ]\n",
      "   [  0.     0.     0.  ]\n",
      "   ...\n",
      "   [  0.     0.     0.  ]\n",
      "   [  0.     0.     0.  ]\n",
      "   [  0.     0.     0.  ]]\n",
      "\n",
      "  ...\n",
      "\n",
      "  [[  0.     0.     0.  ]\n",
      "   [  0.     0.     0.  ]\n",
      "   [  0.     0.     0.  ]\n",
      "   ...\n",
      "   [  0.     0.     0.  ]\n",
      "   [  0.     0.     0.  ]\n",
      "   [  0.     0.     0.  ]]\n",
      "\n",
      "  [[  0.     0.     0.  ]\n",
      "   [  0.     0.     0.  ]\n",
      "   [  0.     0.     0.  ]\n",
      "   ...\n",
      "   [  0.     0.     0.  ]\n",
      "   [  0.     0.     0.  ]\n",
      "   [  0.     0.     0.  ]]\n",
      "\n",
      "  [[  0.     0.     0.  ]\n",
      "   [  0.     0.     0.  ]\n",
      "   [  0.     0.     0.  ]\n",
      "   ...\n",
      "   [  0.     0.     0.  ]\n",
      "   [  0.     0.     0.  ]\n",
      "   [  0.     0.     0.  ]]]\n",
      "\n",
      "\n",
      " ...\n",
      "\n",
      "\n",
      " [[[ 87.    67.    78.  ]\n",
      "   [ 88.75  68.75  79.75]\n",
      "   [ 89.    69.    80.  ]\n",
      "   ...\n",
      "   [ 89.25  68.25  77.25]\n",
      "   [ 80.5   59.5   68.5 ]\n",
      "   [ 85.    64.    73.  ]]\n",
      "\n",
      "  [[ 93.75  73.75  84.75]\n",
      "   [ 87.75  67.75  78.75]\n",
      "   [ 86.5   66.5   77.5 ]\n",
      "   ...\n",
      "   [ 87.5   66.5   75.5 ]\n",
      "   [ 78.5   57.5   66.5 ]\n",
      "   [ 82.5   61.5   70.5 ]]\n",
      "\n",
      "  [[ 92.75  72.75  83.75]\n",
      "   [ 86.75  66.75  77.75]\n",
      "   [ 85.5   65.5   76.5 ]\n",
      "   ...\n",
      "   [ 83.25  62.25  71.25]\n",
      "   [ 86.5   65.5   74.5 ]\n",
      "   [ 78.    57.    66.  ]]\n",
      "\n",
      "  ...\n",
      "\n",
      "  [[121.   107.   122.  ]\n",
      "   [122.75 108.75 123.75]\n",
      "   [126.75 112.75 127.75]\n",
      "   ...\n",
      "   [121.25 105.25 116.25]\n",
      "   [120.25 104.25 115.25]\n",
      "   [117.   101.   112.  ]]\n",
      "\n",
      "  [[126.25 112.25 127.25]\n",
      "   [120.75 106.75 121.75]\n",
      "   [115.25 101.25 116.25]\n",
      "   ...\n",
      "   [121.25 105.25 116.25]\n",
      "   [122.   106.   117.  ]\n",
      "   [119.75 103.75 114.75]]\n",
      "\n",
      "  [[123.   109.   124.  ]\n",
      "   [118.25 104.25 119.25]\n",
      "   [123.75 109.75 124.75]\n",
      "   ...\n",
      "   [120.75 104.75 115.75]\n",
      "   [125.75 109.75 120.75]\n",
      "   [121.5  105.5  116.5 ]]]\n",
      "\n",
      "\n",
      " [[[184.5  166.5  164.5 ]\n",
      "   [178.75 160.75 158.75]\n",
      "   [187.5  169.5  167.5 ]\n",
      "   ...\n",
      "   [183.75 169.75 168.75]\n",
      "   [184.75 170.75 169.75]\n",
      "   [157.   143.   142.  ]]\n",
      "\n",
      "  [[186.25 168.25 166.25]\n",
      "   [177.   159.   157.  ]\n",
      "   [179.25 161.25 159.25]\n",
      "   ...\n",
      "   [180.25 166.25 165.25]\n",
      "   [176.5  162.5  161.5 ]\n",
      "   [172.25 158.25 157.25]]\n",
      "\n",
      "  [[182.   164.   162.  ]\n",
      "   [180.75 162.75 160.75]\n",
      "   [182.5  164.5  162.5 ]\n",
      "   ...\n",
      "   [174.   160.   159.  ]\n",
      "   [172.5  158.5  157.5 ]\n",
      "   [174.   160.   159.  ]]\n",
      "\n",
      "  ...\n",
      "\n",
      "  [[168.75 152.25 135.75]\n",
      "   [158.75 136.5  120.75]\n",
      "   [154.   127.5  113.75]\n",
      "   ...\n",
      "   [163.5  144.5  140.5 ]\n",
      "   [176.25 157.25 153.25]\n",
      "   [184.5  165.5  161.5 ]]\n",
      "\n",
      "  [[166.   149.25 134.25]\n",
      "   [171.5  149.   135.25]\n",
      "   [103.25  75.75  65.  ]\n",
      "   ...\n",
      "   [172.   153.   149.  ]\n",
      "   [163.5  144.5  140.5 ]\n",
      "   [166.   147.   143.  ]]\n",
      "\n",
      "  [[168.25 151.25 138.25]\n",
      "   [122.    99.    86.5 ]\n",
      "   [ 90.5   62.5   55.  ]\n",
      "   ...\n",
      "   [184.   165.   161.  ]\n",
      "   [172.75 153.75 149.75]\n",
      "   [174.25 155.25 151.25]]]\n",
      "\n",
      "\n",
      " [[[137.   123.   120.  ]\n",
      "   [153.25 139.25 136.25]\n",
      "   [159.75 145.75 142.75]\n",
      "   ...\n",
      "   [157.25 143.25 140.25]\n",
      "   [166.5  152.5  149.5 ]\n",
      "   [186.25 172.25 169.25]]\n",
      "\n",
      "  [[143.75 129.75 126.75]\n",
      "   [141.25 127.25 124.25]\n",
      "   [130.25 116.25 113.25]\n",
      "   ...\n",
      "   [171.25 157.25 154.25]\n",
      "   [150.25 136.25 133.25]\n",
      "   [152.25 138.25 135.25]]\n",
      "\n",
      "  [[126.25 112.25 109.25]\n",
      "   [130.5  116.5  113.5 ]\n",
      "   [146.75 132.75 129.75]\n",
      "   ...\n",
      "   [165.   151.   148.  ]\n",
      "   [162.5  148.5  145.5 ]\n",
      "   [152.25 138.25 135.25]]\n",
      "\n",
      "  ...\n",
      "\n",
      "  [[155.   141.   138.  ]\n",
      "   [163.5  149.5  146.5 ]\n",
      "   [172.75 158.75 155.75]\n",
      "   ...\n",
      "   [180.75 170.75 168.75]\n",
      "   [185.25 175.25 173.25]\n",
      "   [186.   176.   174.  ]]\n",
      "\n",
      "  [[172.25 158.25 155.25]\n",
      "   [179.   165.   162.  ]\n",
      "   [175.   161.   158.  ]\n",
      "   ...\n",
      "   [185.5  175.5  173.5 ]\n",
      "   [177.75 167.75 165.75]\n",
      "   [178.5  168.5  166.5 ]]\n",
      "\n",
      "  [[177.25 163.25 160.25]\n",
      "   [183.5  169.5  166.5 ]\n",
      "   [184.   170.   167.  ]\n",
      "   ...\n",
      "   [171.25 161.25 159.25]\n",
      "   [172.25 162.25 160.25]\n",
      "   [179.   169.   167.  ]]]], shape=(32, 128, 128, 3), dtype=float32)\n",
      "tf.Tensor(\n",
      "[[0. 0. 0. ... 0. 0. 0.]\n",
      " [0. 0. 0. ... 0. 0. 0.]\n",
      " [0. 0. 0. ... 0. 0. 0.]\n",
      " ...\n",
      " [0. 0. 0. ... 0. 0. 0.]\n",
      " [0. 0. 0. ... 0. 0. 0.]\n",
      " [0. 0. 0. ... 0. 0. 0.]], shape=(32, 38), dtype=float32)\n"
     ]
    }
   ],
   "source": [
    "for x,y in training_set:\n",
    "     print(x)\n",
    "     print(y)\n",
    "     break"
   ]
  },
  {
   "cell_type": "code",
   "execution_count": 5,
   "id": "5f2381a9-40b1-405c-b532-f58a9d1b5577",
   "metadata": {},
   "outputs": [],
   "source": [
    "from tensorflow.keras.layers import Dense,Conv2D,MaxPool2D,Flatten\n",
    "from tensorflow.keras.models import Sequential"
   ]
  },
  {
   "cell_type": "code",
   "execution_count": 6,
   "id": "6e374d41-daa9-4430-8dc9-5d0272552135",
   "metadata": {},
   "outputs": [],
   "source": [
    "model=Sequential()\n"
   ]
  },
  {
   "cell_type": "code",
   "execution_count": 7,
   "id": "f761168d-1384-4ad0-8a5e-1d20f95981fa",
   "metadata": {},
   "outputs": [
    {
     "name": "stderr",
     "output_type": "stream",
     "text": [
      "C:\\Program Files\\python\\Lib\\site-packages\\keras\\src\\layers\\convolutional\\base_conv.py:99: UserWarning: Do not pass an `input_shape`/`input_dim` argument to a layer. When using Sequential models, prefer using an `Input(shape)` object as the first layer in the model instead.\n",
      "  super().__init__(\n"
     ]
    }
   ],
   "source": [
    "model.add(Conv2D(filters=32,kernel_size=3,padding='same',activation='relu', input_shape=[128, 128, 3]))\n",
    "model.add(Conv2D(filters=32,kernel_size=3,padding='same',activation='relu'))\n",
    "model.add(MaxPool2D(pool_size=2,strides=2))"
   ]
  },
  {
   "cell_type": "code",
   "execution_count": 8,
   "id": "64b2470f-6aa6-4086-97eb-ce0a164cd23f",
   "metadata": {},
   "outputs": [],
   "source": [
    "model.add(Conv2D(filters=64, kernel_size=3,padding='same',activation='relu', input_shape=[128, 128, 3]))\n",
    "model.add(Conv2D(filters=64, kernel_size=3,padding='same',activation='relu'))\n",
    "model.add(MaxPool2D(pool_size=2,strides=2))"
   ]
  },
  {
   "cell_type": "code",
   "execution_count": 9,
   "id": "459b25e0-70da-4df8-90bd-56835c7a86c6",
   "metadata": {},
   "outputs": [],
   "source": [
    "model.add(Conv2D(filters=128,kernel_size=3,padding='same',activation='relu', input_shape=[128, 128, 3]))\n",
    "model.add(Conv2D(filters=128,kernel_size=3,padding='same',activation='relu'))\n",
    "model.add(MaxPool2D(pool_size=2,strides=2))"
   ]
  },
  {
   "cell_type": "code",
   "execution_count": 10,
   "id": "c193d1b5-087c-48b3-8586-63673625df90",
   "metadata": {},
   "outputs": [],
   "source": [
    "model.add(Conv2D(filters=256,kernel_size=3,padding='same',activation='relu', input_shape=[128, 128, 3]))\n",
    "model.add(Conv2D(filters=256,kernel_size=3,padding='same',activation='relu'))\n",
    "model.add(MaxPool2D(pool_size=2,strides=2))"
   ]
  },
  {
   "cell_type": "code",
   "execution_count": 11,
   "id": "599f1584-d94a-48af-ae0f-04067c65eb9a",
   "metadata": {},
   "outputs": [],
   "source": [
    "model.add(Flatten())"
   ]
  },
  {
   "cell_type": "code",
   "execution_count": 12,
   "id": "2e827558-eb58-43be-8899-2482c7c61fd5",
   "metadata": {},
   "outputs": [],
   "source": [
    "model.add(Dense(units=1024,activation='relu'))"
   ]
  },
  {
   "cell_type": "code",
   "execution_count": 13,
   "id": "28fe3742-e3a2-4386-81ed-095e1a44f8a4",
   "metadata": {},
   "outputs": [],
   "source": [
    "model.add(Dense(units=38,activation='softmax'))"
   ]
  },
  {
   "cell_type": "code",
   "execution_count": 14,
   "id": "ac420f8e-dcfd-47fd-bf86-4614d13f8b99",
   "metadata": {},
   "outputs": [],
   "source": [
    "model.compile(optimizer='adam',loss='categorical_crossentropy',metrics=['accuracy'])"
   ]
  },
  {
   "cell_type": "code",
   "execution_count": 15,
   "id": "f3b9f5c1-135e-4e65-b972-a9c9dd8b6f3c",
   "metadata": {},
   "outputs": [
    {
     "data": {
      "text/html": [
       "<pre style=\"white-space:pre;overflow-x:auto;line-height:normal;font-family:Menlo,'DejaVu Sans Mono',consolas,'Courier New',monospace\"><span style=\"font-weight: bold\">Model: \"sequential\"</span>\n",
       "</pre>\n"
      ],
      "text/plain": [
       "\u001b[1mModel: \"sequential\"\u001b[0m\n"
      ]
     },
     "metadata": {},
     "output_type": "display_data"
    },
    {
     "data": {
      "text/html": [
       "<pre style=\"white-space:pre;overflow-x:auto;line-height:normal;font-family:Menlo,'DejaVu Sans Mono',consolas,'Courier New',monospace\">┏━━━━━━━━━━━━━━━━━━━━━━━━━━━━━━━━━━━━━━┳━━━━━━━━━━━━━━━━━━━━━━━━━━━━━┳━━━━━━━━━━━━━━━━━┓\n",
       "┃<span style=\"font-weight: bold\"> Layer (type)                         </span>┃<span style=\"font-weight: bold\"> Output Shape                </span>┃<span style=\"font-weight: bold\">         Param # </span>┃\n",
       "┡━━━━━━━━━━━━━━━━━━━━━━━━━━━━━━━━━━━━━━╇━━━━━━━━━━━━━━━━━━━━━━━━━━━━━╇━━━━━━━━━━━━━━━━━┩\n",
       "│ conv2d (<span style=\"color: #0087ff; text-decoration-color: #0087ff\">Conv2D</span>)                      │ (<span style=\"color: #00d7ff; text-decoration-color: #00d7ff\">None</span>, <span style=\"color: #00af00; text-decoration-color: #00af00\">128</span>, <span style=\"color: #00af00; text-decoration-color: #00af00\">128</span>, <span style=\"color: #00af00; text-decoration-color: #00af00\">32</span>)        │             <span style=\"color: #00af00; text-decoration-color: #00af00\">896</span> │\n",
       "├──────────────────────────────────────┼─────────────────────────────┼─────────────────┤\n",
       "│ conv2d_1 (<span style=\"color: #0087ff; text-decoration-color: #0087ff\">Conv2D</span>)                    │ (<span style=\"color: #00d7ff; text-decoration-color: #00d7ff\">None</span>, <span style=\"color: #00af00; text-decoration-color: #00af00\">128</span>, <span style=\"color: #00af00; text-decoration-color: #00af00\">128</span>, <span style=\"color: #00af00; text-decoration-color: #00af00\">32</span>)        │           <span style=\"color: #00af00; text-decoration-color: #00af00\">9,248</span> │\n",
       "├──────────────────────────────────────┼─────────────────────────────┼─────────────────┤\n",
       "│ max_pooling2d (<span style=\"color: #0087ff; text-decoration-color: #0087ff\">MaxPooling2D</span>)         │ (<span style=\"color: #00d7ff; text-decoration-color: #00d7ff\">None</span>, <span style=\"color: #00af00; text-decoration-color: #00af00\">64</span>, <span style=\"color: #00af00; text-decoration-color: #00af00\">64</span>, <span style=\"color: #00af00; text-decoration-color: #00af00\">32</span>)          │               <span style=\"color: #00af00; text-decoration-color: #00af00\">0</span> │\n",
       "├──────────────────────────────────────┼─────────────────────────────┼─────────────────┤\n",
       "│ conv2d_2 (<span style=\"color: #0087ff; text-decoration-color: #0087ff\">Conv2D</span>)                    │ (<span style=\"color: #00d7ff; text-decoration-color: #00d7ff\">None</span>, <span style=\"color: #00af00; text-decoration-color: #00af00\">64</span>, <span style=\"color: #00af00; text-decoration-color: #00af00\">64</span>, <span style=\"color: #00af00; text-decoration-color: #00af00\">64</span>)          │          <span style=\"color: #00af00; text-decoration-color: #00af00\">18,496</span> │\n",
       "├──────────────────────────────────────┼─────────────────────────────┼─────────────────┤\n",
       "│ conv2d_3 (<span style=\"color: #0087ff; text-decoration-color: #0087ff\">Conv2D</span>)                    │ (<span style=\"color: #00d7ff; text-decoration-color: #00d7ff\">None</span>, <span style=\"color: #00af00; text-decoration-color: #00af00\">64</span>, <span style=\"color: #00af00; text-decoration-color: #00af00\">64</span>, <span style=\"color: #00af00; text-decoration-color: #00af00\">64</span>)          │          <span style=\"color: #00af00; text-decoration-color: #00af00\">36,928</span> │\n",
       "├──────────────────────────────────────┼─────────────────────────────┼─────────────────┤\n",
       "│ max_pooling2d_1 (<span style=\"color: #0087ff; text-decoration-color: #0087ff\">MaxPooling2D</span>)       │ (<span style=\"color: #00d7ff; text-decoration-color: #00d7ff\">None</span>, <span style=\"color: #00af00; text-decoration-color: #00af00\">32</span>, <span style=\"color: #00af00; text-decoration-color: #00af00\">32</span>, <span style=\"color: #00af00; text-decoration-color: #00af00\">64</span>)          │               <span style=\"color: #00af00; text-decoration-color: #00af00\">0</span> │\n",
       "├──────────────────────────────────────┼─────────────────────────────┼─────────────────┤\n",
       "│ conv2d_4 (<span style=\"color: #0087ff; text-decoration-color: #0087ff\">Conv2D</span>)                    │ (<span style=\"color: #00d7ff; text-decoration-color: #00d7ff\">None</span>, <span style=\"color: #00af00; text-decoration-color: #00af00\">32</span>, <span style=\"color: #00af00; text-decoration-color: #00af00\">32</span>, <span style=\"color: #00af00; text-decoration-color: #00af00\">128</span>)         │          <span style=\"color: #00af00; text-decoration-color: #00af00\">73,856</span> │\n",
       "├──────────────────────────────────────┼─────────────────────────────┼─────────────────┤\n",
       "│ conv2d_5 (<span style=\"color: #0087ff; text-decoration-color: #0087ff\">Conv2D</span>)                    │ (<span style=\"color: #00d7ff; text-decoration-color: #00d7ff\">None</span>, <span style=\"color: #00af00; text-decoration-color: #00af00\">32</span>, <span style=\"color: #00af00; text-decoration-color: #00af00\">32</span>, <span style=\"color: #00af00; text-decoration-color: #00af00\">128</span>)         │         <span style=\"color: #00af00; text-decoration-color: #00af00\">147,584</span> │\n",
       "├──────────────────────────────────────┼─────────────────────────────┼─────────────────┤\n",
       "│ max_pooling2d_2 (<span style=\"color: #0087ff; text-decoration-color: #0087ff\">MaxPooling2D</span>)       │ (<span style=\"color: #00d7ff; text-decoration-color: #00d7ff\">None</span>, <span style=\"color: #00af00; text-decoration-color: #00af00\">16</span>, <span style=\"color: #00af00; text-decoration-color: #00af00\">16</span>, <span style=\"color: #00af00; text-decoration-color: #00af00\">128</span>)         │               <span style=\"color: #00af00; text-decoration-color: #00af00\">0</span> │\n",
       "├──────────────────────────────────────┼─────────────────────────────┼─────────────────┤\n",
       "│ conv2d_6 (<span style=\"color: #0087ff; text-decoration-color: #0087ff\">Conv2D</span>)                    │ (<span style=\"color: #00d7ff; text-decoration-color: #00d7ff\">None</span>, <span style=\"color: #00af00; text-decoration-color: #00af00\">16</span>, <span style=\"color: #00af00; text-decoration-color: #00af00\">16</span>, <span style=\"color: #00af00; text-decoration-color: #00af00\">256</span>)         │         <span style=\"color: #00af00; text-decoration-color: #00af00\">295,168</span> │\n",
       "├──────────────────────────────────────┼─────────────────────────────┼─────────────────┤\n",
       "│ conv2d_7 (<span style=\"color: #0087ff; text-decoration-color: #0087ff\">Conv2D</span>)                    │ (<span style=\"color: #00d7ff; text-decoration-color: #00d7ff\">None</span>, <span style=\"color: #00af00; text-decoration-color: #00af00\">16</span>, <span style=\"color: #00af00; text-decoration-color: #00af00\">16</span>, <span style=\"color: #00af00; text-decoration-color: #00af00\">256</span>)         │         <span style=\"color: #00af00; text-decoration-color: #00af00\">590,080</span> │\n",
       "├──────────────────────────────────────┼─────────────────────────────┼─────────────────┤\n",
       "│ max_pooling2d_3 (<span style=\"color: #0087ff; text-decoration-color: #0087ff\">MaxPooling2D</span>)       │ (<span style=\"color: #00d7ff; text-decoration-color: #00d7ff\">None</span>, <span style=\"color: #00af00; text-decoration-color: #00af00\">8</span>, <span style=\"color: #00af00; text-decoration-color: #00af00\">8</span>, <span style=\"color: #00af00; text-decoration-color: #00af00\">256</span>)           │               <span style=\"color: #00af00; text-decoration-color: #00af00\">0</span> │\n",
       "├──────────────────────────────────────┼─────────────────────────────┼─────────────────┤\n",
       "│ flatten (<span style=\"color: #0087ff; text-decoration-color: #0087ff\">Flatten</span>)                    │ (<span style=\"color: #00d7ff; text-decoration-color: #00d7ff\">None</span>, <span style=\"color: #00af00; text-decoration-color: #00af00\">16384</span>)               │               <span style=\"color: #00af00; text-decoration-color: #00af00\">0</span> │\n",
       "├──────────────────────────────────────┼─────────────────────────────┼─────────────────┤\n",
       "│ dense (<span style=\"color: #0087ff; text-decoration-color: #0087ff\">Dense</span>)                        │ (<span style=\"color: #00d7ff; text-decoration-color: #00d7ff\">None</span>, <span style=\"color: #00af00; text-decoration-color: #00af00\">1024</span>)                │      <span style=\"color: #00af00; text-decoration-color: #00af00\">16,778,240</span> │\n",
       "├──────────────────────────────────────┼─────────────────────────────┼─────────────────┤\n",
       "│ dense_1 (<span style=\"color: #0087ff; text-decoration-color: #0087ff\">Dense</span>)                      │ (<span style=\"color: #00d7ff; text-decoration-color: #00d7ff\">None</span>, <span style=\"color: #00af00; text-decoration-color: #00af00\">38</span>)                  │          <span style=\"color: #00af00; text-decoration-color: #00af00\">38,950</span> │\n",
       "└──────────────────────────────────────┴─────────────────────────────┴─────────────────┘\n",
       "</pre>\n"
      ],
      "text/plain": [
       "┏━━━━━━━━━━━━━━━━━━━━━━━━━━━━━━━━━━━━━━┳━━━━━━━━━━━━━━━━━━━━━━━━━━━━━┳━━━━━━━━━━━━━━━━━┓\n",
       "┃\u001b[1m \u001b[0m\u001b[1mLayer (type)                        \u001b[0m\u001b[1m \u001b[0m┃\u001b[1m \u001b[0m\u001b[1mOutput Shape               \u001b[0m\u001b[1m \u001b[0m┃\u001b[1m \u001b[0m\u001b[1m        Param #\u001b[0m\u001b[1m \u001b[0m┃\n",
       "┡━━━━━━━━━━━━━━━━━━━━━━━━━━━━━━━━━━━━━━╇━━━━━━━━━━━━━━━━━━━━━━━━━━━━━╇━━━━━━━━━━━━━━━━━┩\n",
       "│ conv2d (\u001b[38;5;33mConv2D\u001b[0m)                      │ (\u001b[38;5;45mNone\u001b[0m, \u001b[38;5;34m128\u001b[0m, \u001b[38;5;34m128\u001b[0m, \u001b[38;5;34m32\u001b[0m)        │             \u001b[38;5;34m896\u001b[0m │\n",
       "├──────────────────────────────────────┼─────────────────────────────┼─────────────────┤\n",
       "│ conv2d_1 (\u001b[38;5;33mConv2D\u001b[0m)                    │ (\u001b[38;5;45mNone\u001b[0m, \u001b[38;5;34m128\u001b[0m, \u001b[38;5;34m128\u001b[0m, \u001b[38;5;34m32\u001b[0m)        │           \u001b[38;5;34m9,248\u001b[0m │\n",
       "├──────────────────────────────────────┼─────────────────────────────┼─────────────────┤\n",
       "│ max_pooling2d (\u001b[38;5;33mMaxPooling2D\u001b[0m)         │ (\u001b[38;5;45mNone\u001b[0m, \u001b[38;5;34m64\u001b[0m, \u001b[38;5;34m64\u001b[0m, \u001b[38;5;34m32\u001b[0m)          │               \u001b[38;5;34m0\u001b[0m │\n",
       "├──────────────────────────────────────┼─────────────────────────────┼─────────────────┤\n",
       "│ conv2d_2 (\u001b[38;5;33mConv2D\u001b[0m)                    │ (\u001b[38;5;45mNone\u001b[0m, \u001b[38;5;34m64\u001b[0m, \u001b[38;5;34m64\u001b[0m, \u001b[38;5;34m64\u001b[0m)          │          \u001b[38;5;34m18,496\u001b[0m │\n",
       "├──────────────────────────────────────┼─────────────────────────────┼─────────────────┤\n",
       "│ conv2d_3 (\u001b[38;5;33mConv2D\u001b[0m)                    │ (\u001b[38;5;45mNone\u001b[0m, \u001b[38;5;34m64\u001b[0m, \u001b[38;5;34m64\u001b[0m, \u001b[38;5;34m64\u001b[0m)          │          \u001b[38;5;34m36,928\u001b[0m │\n",
       "├──────────────────────────────────────┼─────────────────────────────┼─────────────────┤\n",
       "│ max_pooling2d_1 (\u001b[38;5;33mMaxPooling2D\u001b[0m)       │ (\u001b[38;5;45mNone\u001b[0m, \u001b[38;5;34m32\u001b[0m, \u001b[38;5;34m32\u001b[0m, \u001b[38;5;34m64\u001b[0m)          │               \u001b[38;5;34m0\u001b[0m │\n",
       "├──────────────────────────────────────┼─────────────────────────────┼─────────────────┤\n",
       "│ conv2d_4 (\u001b[38;5;33mConv2D\u001b[0m)                    │ (\u001b[38;5;45mNone\u001b[0m, \u001b[38;5;34m32\u001b[0m, \u001b[38;5;34m32\u001b[0m, \u001b[38;5;34m128\u001b[0m)         │          \u001b[38;5;34m73,856\u001b[0m │\n",
       "├──────────────────────────────────────┼─────────────────────────────┼─────────────────┤\n",
       "│ conv2d_5 (\u001b[38;5;33mConv2D\u001b[0m)                    │ (\u001b[38;5;45mNone\u001b[0m, \u001b[38;5;34m32\u001b[0m, \u001b[38;5;34m32\u001b[0m, \u001b[38;5;34m128\u001b[0m)         │         \u001b[38;5;34m147,584\u001b[0m │\n",
       "├──────────────────────────────────────┼─────────────────────────────┼─────────────────┤\n",
       "│ max_pooling2d_2 (\u001b[38;5;33mMaxPooling2D\u001b[0m)       │ (\u001b[38;5;45mNone\u001b[0m, \u001b[38;5;34m16\u001b[0m, \u001b[38;5;34m16\u001b[0m, \u001b[38;5;34m128\u001b[0m)         │               \u001b[38;5;34m0\u001b[0m │\n",
       "├──────────────────────────────────────┼─────────────────────────────┼─────────────────┤\n",
       "│ conv2d_6 (\u001b[38;5;33mConv2D\u001b[0m)                    │ (\u001b[38;5;45mNone\u001b[0m, \u001b[38;5;34m16\u001b[0m, \u001b[38;5;34m16\u001b[0m, \u001b[38;5;34m256\u001b[0m)         │         \u001b[38;5;34m295,168\u001b[0m │\n",
       "├──────────────────────────────────────┼─────────────────────────────┼─────────────────┤\n",
       "│ conv2d_7 (\u001b[38;5;33mConv2D\u001b[0m)                    │ (\u001b[38;5;45mNone\u001b[0m, \u001b[38;5;34m16\u001b[0m, \u001b[38;5;34m16\u001b[0m, \u001b[38;5;34m256\u001b[0m)         │         \u001b[38;5;34m590,080\u001b[0m │\n",
       "├──────────────────────────────────────┼─────────────────────────────┼─────────────────┤\n",
       "│ max_pooling2d_3 (\u001b[38;5;33mMaxPooling2D\u001b[0m)       │ (\u001b[38;5;45mNone\u001b[0m, \u001b[38;5;34m8\u001b[0m, \u001b[38;5;34m8\u001b[0m, \u001b[38;5;34m256\u001b[0m)           │               \u001b[38;5;34m0\u001b[0m │\n",
       "├──────────────────────────────────────┼─────────────────────────────┼─────────────────┤\n",
       "│ flatten (\u001b[38;5;33mFlatten\u001b[0m)                    │ (\u001b[38;5;45mNone\u001b[0m, \u001b[38;5;34m16384\u001b[0m)               │               \u001b[38;5;34m0\u001b[0m │\n",
       "├──────────────────────────────────────┼─────────────────────────────┼─────────────────┤\n",
       "│ dense (\u001b[38;5;33mDense\u001b[0m)                        │ (\u001b[38;5;45mNone\u001b[0m, \u001b[38;5;34m1024\u001b[0m)                │      \u001b[38;5;34m16,778,240\u001b[0m │\n",
       "├──────────────────────────────────────┼─────────────────────────────┼─────────────────┤\n",
       "│ dense_1 (\u001b[38;5;33mDense\u001b[0m)                      │ (\u001b[38;5;45mNone\u001b[0m, \u001b[38;5;34m38\u001b[0m)                  │          \u001b[38;5;34m38,950\u001b[0m │\n",
       "└──────────────────────────────────────┴─────────────────────────────┴─────────────────┘\n"
      ]
     },
     "metadata": {},
     "output_type": "display_data"
    },
    {
     "data": {
      "text/html": [
       "<pre style=\"white-space:pre;overflow-x:auto;line-height:normal;font-family:Menlo,'DejaVu Sans Mono',consolas,'Courier New',monospace\"><span style=\"font-weight: bold\"> Total params: </span><span style=\"color: #00af00; text-decoration-color: #00af00\">17,989,446</span> (68.62 MB)\n",
       "</pre>\n"
      ],
      "text/plain": [
       "\u001b[1m Total params: \u001b[0m\u001b[38;5;34m17,989,446\u001b[0m (68.62 MB)\n"
      ]
     },
     "metadata": {},
     "output_type": "display_data"
    },
    {
     "data": {
      "text/html": [
       "<pre style=\"white-space:pre;overflow-x:auto;line-height:normal;font-family:Menlo,'DejaVu Sans Mono',consolas,'Courier New',monospace\"><span style=\"font-weight: bold\"> Trainable params: </span><span style=\"color: #00af00; text-decoration-color: #00af00\">17,989,446</span> (68.62 MB)\n",
       "</pre>\n"
      ],
      "text/plain": [
       "\u001b[1m Trainable params: \u001b[0m\u001b[38;5;34m17,989,446\u001b[0m (68.62 MB)\n"
      ]
     },
     "metadata": {},
     "output_type": "display_data"
    },
    {
     "data": {
      "text/html": [
       "<pre style=\"white-space:pre;overflow-x:auto;line-height:normal;font-family:Menlo,'DejaVu Sans Mono',consolas,'Courier New',monospace\"><span style=\"font-weight: bold\"> Non-trainable params: </span><span style=\"color: #00af00; text-decoration-color: #00af00\">0</span> (0.00 B)\n",
       "</pre>\n"
      ],
      "text/plain": [
       "\u001b[1m Non-trainable params: \u001b[0m\u001b[38;5;34m0\u001b[0m (0.00 B)\n"
      ]
     },
     "metadata": {},
     "output_type": "display_data"
    }
   ],
   "source": [
    "model.summary()"
   ]
  },
  {
   "cell_type": "code",
   "execution_count": 16,
   "id": "3413e55e-6639-48cd-84b2-510f47e2854c",
   "metadata": {},
   "outputs": [
    {
     "name": "stdout",
     "output_type": "stream",
     "text": [
      "Epoch 1/10\n",
      "\u001b[1m2197/2197\u001b[0m \u001b[32m━━━━━━━━━━━━━━━━━━━━\u001b[0m\u001b[37m\u001b[0m \u001b[1m3015s\u001b[0m 1s/step - accuracy: 0.4435 - loss: 2.1519 - val_accuracy: 0.8417 - val_loss: 0.4804\n",
      "Epoch 2/10\n",
      "\u001b[1m2197/2197\u001b[0m \u001b[32m━━━━━━━━━━━━━━━━━━━━\u001b[0m\u001b[37m\u001b[0m \u001b[1m4079s\u001b[0m 2s/step - accuracy: 0.8695 - loss: 0.4062 - val_accuracy: 0.8933 - val_loss: 0.3208\n",
      "Epoch 3/10\n",
      "\u001b[1m2197/2197\u001b[0m \u001b[32m━━━━━━━━━━━━━━━━━━━━\u001b[0m\u001b[37m\u001b[0m \u001b[1m3295s\u001b[0m 1s/step - accuracy: 0.9147 - loss: 0.2568 - val_accuracy: 0.9134 - val_loss: 0.2630\n",
      "Epoch 4/10\n",
      "\u001b[1m2197/2197\u001b[0m \u001b[32m━━━━━━━━━━━━━━━━━━━━\u001b[0m\u001b[37m\u001b[0m \u001b[1m2552s\u001b[0m 1s/step - accuracy: 0.9330 - loss: 0.1990 - val_accuracy: 0.9162 - val_loss: 0.2702\n",
      "Epoch 5/10\n",
      "\u001b[1m2197/2197\u001b[0m \u001b[32m━━━━━━━━━━━━━━━━━━━━\u001b[0m\u001b[37m\u001b[0m \u001b[1m2419s\u001b[0m 1s/step - accuracy: 0.9469 - loss: 0.1622 - val_accuracy: 0.9015 - val_loss: 0.3615\n",
      "Epoch 6/10\n",
      "\u001b[1m2197/2197\u001b[0m \u001b[32m━━━━━━━━━━━━━━━━━━━━\u001b[0m\u001b[37m\u001b[0m \u001b[1m2395s\u001b[0m 1s/step - accuracy: 0.9494 - loss: 0.1480 - val_accuracy: 0.9059 - val_loss: 0.3446\n",
      "Epoch 7/10\n",
      "\u001b[1m2197/2197\u001b[0m \u001b[32m━━━━━━━━━━━━━━━━━━━━\u001b[0m\u001b[37m\u001b[0m \u001b[1m2376s\u001b[0m 1s/step - accuracy: 0.9569 - loss: 0.1335 - val_accuracy: 0.9261 - val_loss: 0.2757\n",
      "Epoch 8/10\n",
      "\u001b[1m2197/2197\u001b[0m \u001b[32m━━━━━━━━━━━━━━━━━━━━\u001b[0m\u001b[37m\u001b[0m \u001b[1m25853s\u001b[0m 12s/step - accuracy: 0.9569 - loss: 0.1344 - val_accuracy: 0.9089 - val_loss: 0.3466\n",
      "Epoch 9/10\n",
      "\u001b[1m2197/2197\u001b[0m \u001b[32m━━━━━━━━━━━━━━━━━━━━\u001b[0m\u001b[37m\u001b[0m \u001b[1m4383s\u001b[0m 2s/step - accuracy: 0.9595 - loss: 0.1264 - val_accuracy: 0.9163 - val_loss: 0.3234\n",
      "Epoch 10/10\n",
      "\u001b[1m2197/2197\u001b[0m \u001b[32m━━━━━━━━━━━━━━━━━━━━\u001b[0m\u001b[37m\u001b[0m \u001b[1m4044s\u001b[0m 2s/step - accuracy: 0.9646 - loss: 0.1091 - val_accuracy: 0.8936 - val_loss: 0.4046\n"
     ]
    }
   ],
   "source": [
    "training_history = model.fit(x=training_set,validation_data=validation_set,epochs=10)"
   ]
  },
  {
   "cell_type": "markdown",
   "id": "2f9173cb-5c4f-445e-95da-9d33246afaf5",
   "metadata": {},
   "source": [
    "MODEL EVALUATION\n",
    "\n",
    "model evaluation on training set"
   ]
  },
  {
   "cell_type": "code",
   "execution_count": 17,
   "id": "39b002e7-be5d-4651-8d92-f4761d2d29a0",
   "metadata": {},
   "outputs": [
    {
     "name": "stdout",
     "output_type": "stream",
     "text": [
      "\u001b[1m2197/2197\u001b[0m \u001b[32m━━━━━━━━━━━━━━━━━━━━\u001b[0m\u001b[37m\u001b[0m \u001b[1m1121s\u001b[0m 510ms/step - accuracy: 0.9424 - loss: 0.1789\n"
     ]
    }
   ],
   "source": [
    "train_losss,train_acc = model.evaluate(training_set)"
   ]
  },
  {
   "cell_type": "code",
   "execution_count": 19,
   "id": "b869be15-fb95-4e35-81ae-3cefeec8172c",
   "metadata": {},
   "outputs": [
    {
     "name": "stdout",
     "output_type": "stream",
     "text": [
      "0.16694298386573792 0.9461128115653992\n"
     ]
    }
   ],
   "source": [
    "print(train_losss,train_acc)"
   ]
  },
  {
   "cell_type": "code",
   "execution_count": 20,
   "id": "397fd858-bc22-4c87-9e32-fe0814577b31",
   "metadata": {},
   "outputs": [
    {
     "name": "stdout",
     "output_type": "stream",
     "text": [
      "\u001b[1m550/550\u001b[0m \u001b[32m━━━━━━━━━━━━━━━━━━━━\u001b[0m\u001b[37m\u001b[0m \u001b[1m301s\u001b[0m 546ms/step - accuracy: 0.8938 - loss: 0.4156\n"
     ]
    }
   ],
   "source": [
    "val_loss,val_acc = model.evaluate(validation_set)"
   ]
  },
  {
   "cell_type": "code",
   "execution_count": 22,
   "id": "7d036781-19be-49f3-9191-47f397bb4b00",
   "metadata": {},
   "outputs": [
    {
     "name": "stdout",
     "output_type": "stream",
     "text": [
      "0.4046456217765808 0.8936375975608826\n"
     ]
    }
   ],
   "source": [
    "print(val_loss,val_acc)"
   ]
  },
  {
   "cell_type": "markdown",
   "id": "7ccc611e-ce41-4cbc-9f71-4c546ac47a02",
   "metadata": {},
   "source": [
    "SAVING MODEL"
   ]
  },
  {
   "cell_type": "code",
   "execution_count": 23,
   "id": "163ffb68-a486-40ef-abed-c63f5d4e4476",
   "metadata": {},
   "outputs": [
    {
     "name": "stderr",
     "output_type": "stream",
     "text": [
      "WARNING:absl:You are saving your model as an HDF5 file via `model.save()` or `keras.saving.save_model(model)`. This file format is considered legacy. We recommend using instead the native Keras format, e.g. `model.save('my_model.keras')` or `keras.saving.save_model(model, 'my_model.keras')`. \n"
     ]
    }
   ],
   "source": [
    "model.save(\"trained_model.h5\")"
   ]
  },
  {
   "cell_type": "code",
   "execution_count": 24,
   "id": "dd7c1c3a-fac4-4198-9689-19ffa2d2b37f",
   "metadata": {},
   "outputs": [],
   "source": [
    "model.save(\"trained_model.keras\")"
   ]
  },
  {
   "cell_type": "code",
   "execution_count": 25,
   "id": "a4b3903c-2356-4123-871c-bca2cc954aa8",
   "metadata": {},
   "outputs": [
    {
     "data": {
      "text/plain": [
       "{'accuracy': [0.649690568447113,\n",
       "  0.8867060542106628,\n",
       "  0.9223984479904175,\n",
       "  0.9351873993873596,\n",
       "  0.9482893347740173,\n",
       "  0.9507361650466919,\n",
       "  0.9548474550247192,\n",
       "  0.9603385925292969,\n",
       "  0.9609218239784241,\n",
       "  0.9642221927642822],\n",
       " 'loss': [1.196027398109436,\n",
       "  0.3494885265827179,\n",
       "  0.2356143444776535,\n",
       "  0.1938592493534088,\n",
       "  0.1573890894651413,\n",
       "  0.14810453355312347,\n",
       "  0.14015954732894897,\n",
       "  0.12303637713193893,\n",
       "  0.12221838533878326,\n",
       "  0.11256608366966248],\n",
       " 'val_accuracy': [0.8417368531227112,\n",
       "  0.8932961821556091,\n",
       "  0.9133849143981934,\n",
       "  0.9161734580993652,\n",
       "  0.901547908782959,\n",
       "  0.9058730006217957,\n",
       "  0.9261325001716614,\n",
       "  0.90888911485672,\n",
       "  0.9162873029708862,\n",
       "  0.8936375975608826],\n",
       " 'val_loss': [0.4804255962371826,\n",
       "  0.3207557201385498,\n",
       "  0.26296576857566833,\n",
       "  0.2701924741268158,\n",
       "  0.3615342378616333,\n",
       "  0.3445567786693573,\n",
       "  0.2756596505641937,\n",
       "  0.34664854407310486,\n",
       "  0.3234396278858185,\n",
       "  0.4046318233013153]}"
      ]
     },
     "execution_count": 25,
     "metadata": {},
     "output_type": "execute_result"
    }
   ],
   "source": [
    "training_history.history"
   ]
  },
  {
   "cell_type": "code",
   "execution_count": 37,
   "id": "525aedbb-c731-47f1-ad4e-8cb4d7df0de4",
   "metadata": {},
   "outputs": [
    {
     "data": {
      "text/plain": [
       "[0.8417368531227112,\n",
       " 0.8932961821556091,\n",
       " 0.9133849143981934,\n",
       " 0.9161734580993652,\n",
       " 0.901547908782959,\n",
       " 0.9058730006217957,\n",
       " 0.9261325001716614,\n",
       " 0.90888911485672,\n",
       " 0.9162873029708862,\n",
       " 0.8936375975608826]"
      ]
     },
     "execution_count": 37,
     "metadata": {},
     "output_type": "execute_result"
    }
   ],
   "source": [
    "training_history.history['val_accuracy']"
   ]
  },
  {
   "cell_type": "code",
   "execution_count": 26,
   "id": "610e0213-6f4f-4542-94fd-0b2177f9dfb8",
   "metadata": {},
   "outputs": [],
   "source": [
    "#Recording history in json"
   ]
  },
  {
   "cell_type": "code",
   "execution_count": 29,
   "id": "1ee058f8-6b95-4816-b552-f805ef9f4a09",
   "metadata": {},
   "outputs": [],
   "source": [
    "import json\n",
    "with open(\"training_hist.json\",\"w\")as f:\n",
    "    json.dump(training_history.history,f)"
   ]
  },
  {
   "cell_type": "code",
   "execution_count": null,
   "id": "0004e12f-9210-4359-8f32-ab21927d0d92",
   "metadata": {},
   "outputs": [],
   "source": []
  },
  {
   "cell_type": "code",
   "execution_count": 30,
   "id": "7aaba020-a9e4-49c1-985b-8a8b2ac5a109",
   "metadata": {},
   "outputs": [],
   "source": [
    "#Accuracy Visualization"
   ]
  },
  {
   "cell_type": "code",
   "execution_count": 40,
   "id": "038460f7-788e-43eb-951d-4c16d3615a71",
   "metadata": {},
   "outputs": [
    {
     "data": {
      "image/png": "[encoded data removed]",
      "text/plain": [
       "<Figure size 640x480 with 1 Axes>"
      ]
     },
     "metadata": {},
     "output_type": "display_data"
    }
   ],
   "source": [
    "# Correctly defining epochs as a list\n",
    "epochs = [i for i in range(1, 11)]\n",
    "\n",
    "# Assuming training_history.history['accuracy'] exists and is a list with 10 elements\n",
    "plt.plot(epochs, training_history.history['accuracy'], color='red', label='training accuracy')\n",
    "plt.plot(epochs, training_history.history['val_accuracy'], color='blue', label='validation accuracy')\n",
    "plt.xlabel(\"no. of epochs\")\n",
    "plt.ylabel(\"accuracy result\")\n",
    "plt.title(\"visualization of accuracy result\")\n",
    "plt.legend()\n",
    "plt.show()\n"
   ]
  },
  {
   "cell_type": "markdown",
   "id": "b21541aa-96cb-4415-9ced-b61bd2b55cf5",
   "metadata": {},
   "source": [
    "##some other metrices for model evaluation"
   ]
  },
  {
   "cell_type": "code",
   "execution_count": 43,
   "id": "78a15e73-0d2d-4457-ac04-d8a09a4c7018",
   "metadata": {},
   "outputs": [
    {
     "data": {
      "text/plain": [
       "['Apple___Apple_scab',\n",
       " 'Apple___Black_rot',\n",
       " 'Apple___Cedar_apple_rust',\n",
       " 'Apple___healthy',\n",
       " 'Blueberry___healthy',\n",
       " 'Cherry_(including_sour)___Powdery_mildew',\n",
       " 'Cherry_(including_sour)___healthy',\n",
       " 'Corn_(maize)___Cercospora_leaf_spot Gray_leaf_spot',\n",
       " 'Corn_(maize)___Common_rust_',\n",
       " 'Corn_(maize)___Northern_Leaf_Blight',\n",
       " 'Corn_(maize)___healthy',\n",
       " 'Grape___Black_rot',\n",
       " 'Grape___Esca_(Black_Measles)',\n",
       " 'Grape___Leaf_blight_(Isariopsis_Leaf_Spot)',\n",
       " 'Grape___healthy',\n",
       " 'Orange___Haunglongbing_(Citrus_greening)',\n",
       " 'Peach___Bacterial_spot',\n",
       " 'Peach___healthy',\n",
       " 'Pepper,_bell___Bacterial_spot',\n",
       " 'Pepper,_bell___healthy',\n",
       " 'Potato___Early_blight',\n",
       " 'Potato___Late_blight',\n",
       " 'Potato___healthy',\n",
       " 'Raspberry___healthy',\n",
       " 'Soybean___healthy',\n",
       " 'Squash___Powdery_mildew',\n",
       " 'Strawberry___Leaf_scorch',\n",
       " 'Strawberry___healthy',\n",
       " 'Tomato___Bacterial_spot',\n",
       " 'Tomato___Early_blight',\n",
       " 'Tomato___Late_blight',\n",
       " 'Tomato___Leaf_Mold',\n",
       " 'Tomato___Septoria_leaf_spot',\n",
       " 'Tomato___Spider_mites Two-spotted_spider_mite',\n",
       " 'Tomato___Target_Spot',\n",
       " 'Tomato___Tomato_Yellow_Leaf_Curl_Virus',\n",
       " 'Tomato___Tomato_mosaic_virus',\n",
       " 'Tomato___healthy']"
      ]
     },
     "execution_count": 43,
     "metadata": {},
     "output_type": "execute_result"
    }
   ],
   "source": [
    "class_name =validation_set.class_names\n",
    "class_name\n"
   ]
  },
  {
   "cell_type": "code",
   "execution_count": null,
   "id": "6c8342e6-e0b2-43f1-b684-a578dfd88c22",
   "metadata": {},
   "outputs": [],
   "source": []
  },
  {
   "cell_type": "code",
   "execution_count": 44,
   "id": "59c49e81-5475-4d73-b36b-4ba13c1451aa",
   "metadata": {},
   "outputs": [
    {
     "name": "stdout",
     "output_type": "stream",
     "text": [
      "Found 17572 files belonging to 38 classes.\n"
     ]
    }
   ],
   "source": [
    "test_set = tf.keras.utils.image_dataset_from_directory(\n",
    "    'valid',\n",
    "    labels=\"inferred\",\n",
    "    label_mode=\"categorical\",\n",
    "    class_names=None,\n",
    "    color_mode=\"rgb\",\n",
    "    batch_size=32,\n",
    "    image_size=(128, 128),\n",
    "    shuffle=False,\n",
    "    seed=None,\n",
    "    validation_split=None,\n",
    "    subset=None,\n",
    "    interpolation=\"bilinear\",\n",
    "    follow_links=False,\n",
    "    crop_to_aspect_ratio=False\n",
    ")"
   ]
  },
  {
   "cell_type": "code",
   "execution_count": 46,
   "id": "a5c715aa-e9e5-41b5-857e-e878371b7fed",
   "metadata": {},
   "outputs": [
    {
     "name": "stdout",
     "output_type": "stream",
     "text": [
      "\u001b[1m550/550\u001b[0m \u001b[32m━━━━━━━━━━━━━━━━━━━━\u001b[0m\u001b[37m\u001b[0m \u001b[1m325s\u001b[0m 591ms/step\n"
     ]
    },
    {
     "data": {
      "text/plain": [
       "(array([[9.9997914e-01, 1.9144269e-05, 6.7951068e-11, ..., 2.6967812e-17,\n",
       "         3.0007236e-13, 7.5876458e-12],\n",
       "        [9.9896860e-01, 4.5860262e-04, 7.7290352e-09, ..., 5.5671365e-19,\n",
       "         1.3175665e-09, 1.0109616e-12],\n",
       "        [9.9999630e-01, 2.3637592e-10, 1.7635560e-10, ..., 2.7253724e-16,\n",
       "         1.7908434e-13, 8.6421894e-12],\n",
       "        ...,\n",
       "        [8.6324841e-14, 2.5765492e-17, 2.2850520e-06, ..., 1.0382633e-10,\n",
       "         2.2463901e-16, 9.9890459e-01],\n",
       "        [2.6041642e-08, 4.7243088e-16, 4.3914272e-09, ..., 1.4505836e-08,\n",
       "         3.2388845e-11, 9.9997973e-01],\n",
       "        [7.5145712e-10, 4.0409599e-11, 2.2470299e-07, ..., 8.8729172e-12,\n",
       "         1.8567270e-07, 9.9846727e-01]], dtype=float32),\n",
       " (17572, 38))"
      ]
     },
     "execution_count": 46,
     "metadata": {},
     "output_type": "execute_result"
    }
   ],
   "source": [
    "y_pred=model.predict(test_set)\n",
    "y_pred,y_pred.shape"
   ]
  },
  {
   "cell_type": "code",
   "execution_count": 47,
   "id": "c6bfe22a-5069-4b1d-9c95-a8856c86210c",
   "metadata": {},
   "outputs": [],
   "source": [
    "predicted_categories = tf.argmax(y_pred,axis=1)"
   ]
  },
  {
   "cell_type": "code",
   "execution_count": 48,
   "id": "3de60866-062e-4b29-9f48-9c6cafcd1a1d",
   "metadata": {},
   "outputs": [
    {
     "data": {
      "text/plain": [
       "<tf.Tensor: shape=(17572,), dtype=int64, numpy=array([ 0,  0,  0, ..., 37, 37, 37], dtype=int64)>"
      ]
     },
     "execution_count": 48,
     "metadata": {},
     "output_type": "execute_result"
    }
   ],
   "source": [
    "predicted_categories"
   ]
  },
  {
   "cell_type": "code",
   "execution_count": 49,
   "id": "da39d007-08d2-4db6-a1a4-50b02c67ec0e",
   "metadata": {},
   "outputs": [
    {
     "data": {
      "text/plain": [
       "<tf.Tensor: shape=(17572, 38), dtype=float32, numpy=\n",
       "array([[1., 0., 0., ..., 0., 0., 0.],\n",
       "       [1., 0., 0., ..., 0., 0., 0.],\n",
       "       [1., 0., 0., ..., 0., 0., 0.],\n",
       "       ...,\n",
       "       [0., 0., 0., ..., 0., 0., 1.],\n",
       "       [0., 0., 0., ..., 0., 0., 1.],\n",
       "       [0., 0., 0., ..., 0., 0., 1.]], dtype=float32)>"
      ]
     },
     "execution_count": 49,
     "metadata": {},
     "output_type": "execute_result"
    }
   ],
   "source": [
    "true_categories = tf.concat([y for x,y in test_set],axis=0)\n",
    "true_categories"
   ]
  },
  {
   "cell_type": "code",
   "execution_count": 17,
   "id": "a02173b8-c9be-4d77-82b7-db1954530f2f",
   "metadata": {},
   "outputs": [],
   "source": [
    "import tensorflow as tf"
   ]
  },
  {
   "cell_type": "code",
   "execution_count": 15,
   "id": "aa5a2b89-502b-433a-95a3-12b10929f612",
   "metadata": {},
   "outputs": [
    {
     "ename": "NameError",
     "evalue": "name 'y_pred' is not defined",
     "output_type": "error",
     "traceback": [
      "\u001b[1;31m---------------------------------------------------------------------------\u001b[0m",
      "\u001b[1;31mNameError\u001b[0m                                 Traceback (most recent call last)",
      "Cell \u001b[1;32mIn[15], line 1\u001b[0m\n\u001b[1;32m----> 1\u001b[0m Y_true \u001b[38;5;241m=\u001b[39m tf\u001b[38;5;241m.\u001b[39margmax(\u001b[43my_pred\u001b[49m,axis\u001b[38;5;241m=\u001b[39m\u001b[38;5;241m1\u001b[39m)\n\u001b[0;32m      2\u001b[0m Y_true\n",
      "\u001b[1;31mNameError\u001b[0m: name 'y_pred' is not defined"
     ]
    }
   ],
   "source": [
    "Y_true = tf.argmax(y_pred,axis=1)\n",
    "Y_true\n"
   ]
  },
  {
   "attachments": {
    "232eb748-a2a8-4e62-ad52-848d26834ca5.png": {
     "image/png": "[encoded data removed]"
    },
    "3e3e97f9-9f46-4da1-a518-d42a75aaf4ca.png": {
     "image/png": "[encoded data removed]"
    }
   },
   "cell_type": "markdown",
   "id": "8b575683-1c4f-4e37-bff1-f031d86d92f4",
   "metadata": {},
   "source": [
    "![image.png](attachment:3e3e97f9-9f46-4da1-a518-d42a75aaf4ca.png)![image.png](attachment:232eb748-a2a8-4e62-ad52-848d26834ca5.png)"
   ]
  },
  {
   "cell_type": "code",
   "execution_count": 2,
   "id": "d596fe59-6623-4b4c-9597-ffc3356f7547",
   "metadata": {},
   "outputs": [],
   "source": [
    "from sklearn.metrics import classification_report"
   ]
  },
  {
   "cell_type": "code",
   "execution_count": 3,
   "id": "619e6a24-350b-4758-ae2d-06626df54990",
   "metadata": {},
   "outputs": [
    {
     "data": {
      "text/plain": [
       "<function sklearn.metrics._classification.classification_report(y_true, y_pred, *, labels=None, target_names=None, sample_weight=None, digits=2, output_dict=False, zero_division='warn')>"
      ]
     },
     "execution_count": 3,
     "metadata": {},
     "output_type": "execute_result"
    }
   ],
   "source": [
    "classification_report"
   ]
  },
  {
   "cell_type": "code",
   "execution_count": 10,
   "id": "c3ab433a-bc13-4275-aae0-39e86b66407a",
   "metadata": {},
   "outputs": [
    {
     "ename": "NameError",
     "evalue": "name 'y_true' is not defined",
     "output_type": "error",
     "traceback": [
      "\u001b[1;31m---------------------------------------------------------------------------\u001b[0m",
      "\u001b[1;31mNameError\u001b[0m                                 Traceback (most recent call last)",
      "Cell \u001b[1;32mIn[10], line 1\u001b[0m\n\u001b[1;32m----> 1\u001b[0m \u001b[38;5;28mprint\u001b[39m(classification_report(\u001b[43my_true\u001b[49m, predicted_categories, target_names\u001b[38;5;241m=\u001b[39mclass_names))\n",
      "\u001b[1;31mNameError\u001b[0m: name 'y_true' is not defined"
     ]
    }
   ],
   "source": [
    "print(classification_report(y_true, predicted_categories, target_names=class_names))"
   ]
  },
  {
   "cell_type": "code",
   "execution_count": 17,
   "id": "61604b05-7472-47d2-bf2d-c514d04467a1",
   "metadata": {},
   "outputs": [],
   "source": [
    "from sklearn.metrics import classification_report,confusion_matrix"
   ]
  },
  {
   "cell_type": "code",
   "execution_count": 13,
   "id": "33c8efe6-d858-439c-8611-f220a9366cd5",
   "metadata": {},
   "outputs": [
    {
     "ename": "NameError",
     "evalue": "name 'y_true' is not defined",
     "output_type": "error",
     "traceback": [
      "\u001b[1;31m---------------------------------------------------------------------------\u001b[0m",
      "\u001b[1;31mNameError\u001b[0m                                 Traceback (most recent call last)",
      "Cell \u001b[1;32mIn[13], line 1\u001b[0m\n\u001b[1;32m----> 1\u001b[0m \u001b[38;5;28mprint\u001b[39m(classification_report(\u001b[43my_true\u001b[49m, predicted_categories, target_names\u001b[38;5;241m=\u001b[39mclass_names))\n",
      "\u001b[1;31mNameError\u001b[0m: name 'y_true' is not defined"
     ]
    }
   ],
   "source": [
    "print(classification_report(y_true, predicted_categories, target_names=class_names))"
   ]
  },
  {
   "cell_type": "code",
   "execution_count": 14,
   "id": "92014e76-1a57-4077-8eb2-4678be0d54fa",
   "metadata": {},
   "outputs": [],
   "source": [
    "import tensorflow as tf"
   ]
  },
  {
   "cell_type": "code",
   "execution_count": 18,
   "id": "01b10ca2-cca3-489e-9198-e56f73f78919",
   "metadata": {},
   "outputs": [
    {
     "ename": "NameError",
     "evalue": "name 'confusion' is not defined",
     "output_type": "error",
     "traceback": [
      "\u001b[1;31m---------------------------------------------------------------------------\u001b[0m",
      "\u001b[1;31mNameError\u001b[0m                                 Traceback (most recent call last)",
      "Cell \u001b[1;32mIn[18], line 1\u001b[0m\n\u001b[1;32m----> 1\u001b[0m cm\u001b[38;5;241m=\u001b[39m\u001b[43mconfusion\u001b[49m\u001b[38;5;241m-\u001b[39mmatrix(y_true,predicted_categories)\n\u001b[0;32m      2\u001b[0m cm\u001b[38;5;241m.\u001b[39mshape\n",
      "\u001b[1;31mNameError\u001b[0m: name 'confusion' is not defined"
     ]
    }
   ],
   "source": [
    "cm=confusion-matrix(y_true,predicted_categories)\n",
    "cm.shape"
   ]
  },
  {
   "cell_type": "code",
   "execution_count": null,
   "id": "3ab5c039-cf6d-4532-acb1-82bd92ec3a80",
   "metadata": {},
   "outputs": [],
   "source": []
  }
 ],
 "metadata": {
  "kernelspec": {
   "display_name": "Python 3 (ipykernel)",
   "language": "python",
   "name": "python3"
  },
  "language_info": {
   "codemirror_mode": {
    "name": "ipython",
    "version": 3
   },
   "file_extension": ".py",
   "mimetype": "text/x-python",
   "name": "python",
   "nbconvert_exporter": "python",
   "pygments_lexer": "ipython3",
   "version": "3.11.8"
  }
 },
 "nbformat": 4,
 "nbformat_minor": 5
}
